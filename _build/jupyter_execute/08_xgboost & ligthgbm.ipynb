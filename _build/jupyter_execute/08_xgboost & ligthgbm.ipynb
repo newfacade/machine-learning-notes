{
 "cells": [
  {
   "cell_type": "markdown",
   "metadata": {},
   "source": [
    "# XGBoost & LightGBM"
   ]
  },
  {
   "cell_type": "markdown",
   "metadata": {},
   "source": [
    "## XGBoost"
   ]
  },
  {
   "cell_type": "markdown",
   "metadata": {},
   "source": [
    "mathematically, we can write our ensemble tree model in the form\n",
    "\n",
    "$$\\hat{y}_{i} = \\sum_{k=1}^{K}f_{k}(x_{i}), f_{k}\\in\\mathcal{F}$$\n",
    "\n",
    "where $K$ is the number of trees, $f$ is a function in the function space $\\mathcal{F}$, and $\\mathcal{F}$ is the set of all possible CARTs.\n",
    "\n",
    "the objective function to be optimized is given by\n",
    "\n",
    "$$\\mbox{obj}(\\theta) = \\sum_{i=1}^{n}l(y_{i}, \\hat{y}_{i}) + \\sum_{k=1}^{K}\\Omega(f_{k})$$\n",
    "\n",
    "where $l$ is the loss term, $\\Omega$ is the regularization term."
   ]
  },
  {
   "cell_type": "markdown",
   "metadata": {},
   "source": [
    "### Additive Learning"
   ]
  },
  {
   "cell_type": "markdown",
   "metadata": {},
   "source": [
    "what are the parameters of trees? you can find that what we need to learn are those functions $f_{i}$, each containing the structure of the tree and the leaf scores.\n",
    "\n",
    "learning tree strcture is much harder than traditional optimization problem where you can simply take the gradient, instead, we use an additive strategy: fix what we learned, and add one new tree at a time. we write the prediction value at step $t$ as $\\hat{y}_{i}^{(t)}$, then\n",
    "\n",
    "$$\n",
    "\\begin{equation}\n",
    "\\begin{split}\n",
    "\\mbox{obj}^{(t)} =& \\sum_{i=1}^{n}l(y_{i}, \\hat{y}_{i}^{(t)}) + \\sum_{k=1}^{t}\\Omega(f_{k}) \\\\\n",
    "=& \\sum_{i=1}^{n}l(y_{i}, \\hat{y}_{i}^{(t - 1)} + f_{t}(x_{i})) + \\Omega(f_{t}) + \\mbox{constant}\n",
    "\\end{split}\n",
    "\\end{equation}\n",
    "$$\n",
    "\n",
    "$$\\hat{y}_{i}^{(0)} = 0$$\n",
    "\n",
    "in general case($l$ arbitrary), we take the taylor expansion of the loss function up to the second order\n",
    "\n",
    "$$\\mbox{obj}^{(t)} \\approx \\sum_{i=1}^{n}[l(y_{i}, \\hat{y}_{i}^{(t - 1)}) + g_{i}f_{t}(x_{i}) + \\frac{1}{2}h_{i}f_{t}(x_{i})^{2}] + \\Omega(f_{t}) + \\mbox{constant}$$\n",
    "\n",
    "where $g_{i}$ and $h_{i}$ are defined as\n",
    "\n",
    "$$g_{i} = \\frac{\\partial l(y_{i}, \\hat{y}_{i}^{(t - 1)})}{\\partial \\hat{y}_{i}^{(t-1)}}, h_{i} = \\frac{\\partial^{2} l(y_{i}, \\hat{y}_{i}^{(t - 1)})}{{\\partial \\hat{y}_{i}^{(t-1)}}^2}$$\n",
    "\n",
    "after removing all the constants, the specific objective at step $t$ becomes\n",
    "\n",
    "$$\\sum_{i=1}^{n}[g_{i}f_{t}(x_{i}) + \\frac{1}{2}h_{i}f_{t}(x_{i})^{2}] + \\Omega(f_{t})$$\n",
    "\n",
    "this becomes our optimization goal for the new tree."
   ]
  },
  {
   "cell_type": "markdown",
   "metadata": {},
   "source": [
    "### Model Complexity\n",
    "\n",
    "we need to define the complexity of the tree $\\Omega(f)$, in order to do so, let us first refine the definition of the tree $f(x)$ as\n",
    "\n",
    "$$f(x) = w_{q(x)}, w \\in \\mathbb{R}^{T}, q: \\mathbb{R}^{d} \\to \\{1,2,...,T\\}$$\n",
    "\n",
    "where $w$ is the vector of scores on leaves, $q$ is a function assigning each data point to the corresponding leaf, and $T$ is the number of leaves. in XGBoost, we define the complexity as\n",
    "\n",
    "$$\\Omega(f) = \\gamma{T} + \\frac{1}{2}\\lambda\\sum_{j=1}^{T}w_{j}^{2}$$\n",
    "\n",
    "this works well in practice."
   ]
  },
  {
   "cell_type": "markdown",
   "metadata": {},
   "source": [
    "### The Structure Score\n",
    "\n",
    "now we can write the objective value with the $t$-th tree as:\n",
    "\n",
    "$$\n",
    "\\begin{equation}\n",
    "\\begin{split}\n",
    "\\mbox{obj}^{(t)} = & \\sum_{i=1}^{n}[g_{i}f_{t}(x_{i}) + \\frac{1}{2}h_{i}f_{t}(x_{i})^{2}] + \\gamma{T} + \\frac{1}{2}\\lambda\\sum_{j=1}^{T}w_{j}^{2} \\\\\n",
    "=& \\sum_{j=1}^{T}[(\\sum_{i\\in{I_{j}}}g_{i})w_{j} + \\frac{1}{2}(\\sum_{i\\in{I_j}}h_{i} + \\lambda)w_{j}^2] + \\gamma{T}\n",
    "\\end{split}\n",
    "\\end{equation}\n",
    "$$\n",
    "\n",
    "where $I_{j} = \\{i|q_{i}=j\\}$ is the set of indices of data-points assign to the $j$-th leaf.\n",
    "\n",
    "we could further compress the expression by defining $G_{j} = \\sum_{i\\in{I_{j}}}g_{i}, H_{j} = \\sum_{i\\in{I_j}}h_{i}$:\n",
    "\n",
    "$$\\mbox{obj}^{(t)} = \\sum_{j=1}^{T}[G_{j}w_{j} + \\frac{1}{2}(H_{j} + \\lambda)w_{j}^2] + \\gamma{T}$$\n",
    "\n",
    "in this equation, $w_{j}$ are independent with respect to each other, the form $G_{j}w_{j} + \\frac{1}{2}(H_{j} + \\lambda)w_{j}^2$ is quadratic and the best $w_{j}$ for a given $q(x)$ and the best objective reduction we can get is:\n",
    "\n",
    "$$w_{j}^{\\ast} = -\\frac{G_{j}}{H_{j} + \\lambda}$$\n",
    "\n",
    "$$\\mbox{obj}^{\\ast} = -\\frac{1}{2}\\sum_{i=1}^{T}\\frac{G_{j}^2}{H_{j} + \\lambda} + \\gamma{T}$$\n",
    "\n",
    "the last equation measures how good a tree structure $q(x)$ is."
   ]
  },
  {
   "cell_type": "markdown",
   "metadata": {},
   "source": [
    "### Learn the Tree Structure\n",
    "\n",
    "now we have a way to measure how good a tree is, ideally we would enumerate all possible trees and pick the best one, but not practical.\n",
    "\n",
    "instead we will try to optimize **one level** of the tree at a time, specifically we try to split a leaf into two leaves, and the score gain is:\n",
    "\n",
    "$$Gain = \\frac{1}{2}\\left [\\frac{G_L^2}{H_L + \\lambda} + \\frac{G_R^2}{H_R + \\lambda} - \\frac{(G_L + G_R)^2}{H_L + H_R + \\lambda}\\right ] - \\gamma$$\n",
    "\n",
    "if the first part of $Gain$ is smaller than $\\gamma$, we would do better not add that branch, this is exactly pruning!\n",
    "\n",
    "for real valued data, we places all instances in sorted order(by the split feature), then a left to right scan is sufficient to calculate the structure score of all possible split solutions, and we can find the best split efficiently. \n",
    "\n",
    "in practice, since it is intractable to enumerate all possible tree structures, we add one split at a time, this approach works well at most of the time."
   ]
  },
  {
   "cell_type": "markdown",
   "metadata": {},
   "source": [
    "### XGBoost Practice"
   ]
  },
  {
   "cell_type": "code",
   "execution_count": 1,
   "metadata": {},
   "outputs": [],
   "source": [
    "\"\"\"quadratic dataset\"\"\"\n",
    "import numpy as np\n",
    "from sklearn.model_selection import train_test_split\n",
    "\n",
    "np.random.seed(42)\n",
    "X = np.random.rand(100, 1) - 0.5\n",
    "y = 3*X[:, 0]**2 + 0.05 * np.random.randn(100)\n",
    "X_train, X_val, y_train, y_val = train_test_split(X, y, random_state=42)"
   ]
  },
  {
   "cell_type": "code",
   "execution_count": 2,
   "metadata": {},
   "outputs": [
    {
     "data": {
      "text/plain": [
       "0.0030701301701716146"
      ]
     },
     "execution_count": 2,
     "metadata": {},
     "output_type": "execute_result"
    }
   ],
   "source": [
    "\"\"\"basic xgboost\"\"\"\n",
    "import xgboost\n",
    "from sklearn.metrics import mean_squared_error\n",
    "\n",
    "xgb_reg = xgboost.XGBRegressor()\n",
    "xgb_reg.fit(X_train, y_train)\n",
    "y_pred = xgb_reg.predict(X_val)\n",
    "mean_squared_error(y_pred, y_val)"
   ]
  },
  {
   "cell_type": "code",
   "execution_count": 3,
   "metadata": {},
   "outputs": [
    {
     "name": "stdout",
     "output_type": "stream",
     "text": [
      "[0]\tvalidation_0-rmse:0.19678\n"
     ]
    },
    {
     "name": "stdout",
     "output_type": "stream",
     "text": [
      "[1]\tvalidation_0-rmse:0.14325\n"
     ]
    },
    {
     "name": "stdout",
     "output_type": "stream",
     "text": [
      "[2]\tvalidation_0-rmse:0.10835\n"
     ]
    },
    {
     "name": "stdout",
     "output_type": "stream",
     "text": [
      "[3]\tvalidation_0-rmse:0.08482\n"
     ]
    },
    {
     "name": "stdout",
     "output_type": "stream",
     "text": [
      "[4]\tvalidation_0-rmse:0.07044\n"
     ]
    },
    {
     "name": "stdout",
     "output_type": "stream",
     "text": [
      "[5]\tvalidation_0-rmse:0.06255\n"
     ]
    },
    {
     "name": "stdout",
     "output_type": "stream",
     "text": [
      "[6]\tvalidation_0-rmse:0.05927\n"
     ]
    },
    {
     "name": "stdout",
     "output_type": "stream",
     "text": [
      "[7]\tvalidation_0-rmse:0.05698\n"
     ]
    },
    {
     "name": "stdout",
     "output_type": "stream",
     "text": [
      "[8]\tvalidation_0-rmse:0.05519\n"
     ]
    },
    {
     "name": "stdout",
     "output_type": "stream",
     "text": [
      "[9]\tvalidation_0-rmse:0.05513\n"
     ]
    },
    {
     "name": "stdout",
     "output_type": "stream",
     "text": [
      "[10]\tvalidation_0-rmse:0.05473\n"
     ]
    },
    {
     "name": "stdout",
     "output_type": "stream",
     "text": [
      "[11]\tvalidation_0-rmse:0.05463\n"
     ]
    },
    {
     "name": "stdout",
     "output_type": "stream",
     "text": [
      "[12]\tvalidation_0-rmse:0.05427\n"
     ]
    },
    {
     "name": "stdout",
     "output_type": "stream",
     "text": [
      "[13]\tvalidation_0-rmse:0.05376\n"
     ]
    },
    {
     "name": "stdout",
     "output_type": "stream",
     "text": [
      "[14]\tvalidation_0-rmse:0.05377\n"
     ]
    },
    {
     "name": "stdout",
     "output_type": "stream",
     "text": [
      "[15]\tvalidation_0-rmse:0.05363\n"
     ]
    },
    {
     "name": "stdout",
     "output_type": "stream",
     "text": [
      "[16]\tvalidation_0-rmse:0.05358\n"
     ]
    },
    {
     "name": "stdout",
     "output_type": "stream",
     "text": [
      "[17]\tvalidation_0-rmse:0.05387\n"
     ]
    },
    {
     "data": {
      "text/plain": [
       "0.0028706534131390338"
      ]
     },
     "execution_count": 3,
     "metadata": {},
     "output_type": "execute_result"
    }
   ],
   "source": [
    "\"\"\"xgboost automatically taking care of early stopping\"\"\"\n",
    "xgb_reg.fit(X_train, y_train, eval_set=[(X_val, y_val)], early_stopping_rounds=2)\n",
    "y_pred = xgb_reg.predict(X_val)\n",
    "mean_squared_error(y_pred, y_val)"
   ]
  },
  {
   "cell_type": "markdown",
   "metadata": {},
   "source": [
    "## LightGBM\n",
    "\n",
    "XGBoost uses level-wise tree growth:\n",
    "\n",
    "![jupyter](images/level.png)\n",
    "\n",
    "while LightGBM uses leaf-wise tree growth:\n",
    "\n",
    "![jupyter](images/leaf.png)\n",
    "\n",
    "we can formalize leaf-wise tree growth as:\n",
    "\n",
    "$$(p_m, f_{m}, v_{m}) = \\underset{(p,f,v)}{argmin}\\ L(T_{m-1}(X).split(p, f, v), Y)$$\n",
    "\n",
    "$$T_{m}(X) = T_{m-1}(X).split(p_m, f_{m}, v_{m})$$\n",
    "\n",
    "finding the best split is costly, in XGBoost, we enumerate all features and all thresholds to find the best split.\n",
    "\n",
    "LightGBM optimize that by using the histogram algorithm:\n",
    "\n"
   ]
  },
  {
   "cell_type": "code",
   "execution_count": null,
   "metadata": {},
   "outputs": [],
   "source": []
  }
 ],
 "metadata": {
  "kernelspec": {
   "display_name": "Python 3",
   "language": "python",
   "name": "python3"
  },
  "language_info": {
   "codemirror_mode": {
    "name": "ipython",
    "version": 3
   },
   "file_extension": ".py",
   "mimetype": "text/x-python",
   "name": "python",
   "nbconvert_exporter": "python",
   "pygments_lexer": "ipython3",
   "version": "3.8.3"
  }
 },
 "nbformat": 4,
 "nbformat_minor": 4
}