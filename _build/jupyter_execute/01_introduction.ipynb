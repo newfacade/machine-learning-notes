{
 "cells": [
  {
   "cell_type": "markdown",
   "metadata": {},
   "source": [
    "# Introduction"
   ]
  },
  {
   "cell_type": "markdown",
   "metadata": {},
   "source": [
    "## What is machine learning\n",
    "\n",
    "Machine learning is the science (and art) of programming computers so they can **learn from data.**\n",
    "\n",
    "A slightly more general definition by Arthur Samuel in 1959:\n",
    "\n",
    "**Field of study that gives computers the ability to learn without beging explicitly programmed.**\n",
    "\n",
    "Common definition by Tom Mitchell in 1988:\n",
    "\n",
    "**A computer program is said to learn from experience E with respect to some task T and some performace measure P, if its performance on T, as measured by P, improves with experience E.**"
   ]
  },
  {
   "cell_type": "markdown",
   "metadata": {},
   "source": [
    "## Why use machine learning\n",
    "\n",
    "machine learning especially shines in these four fields:\n",
    "\n",
    "1. problems for which existing solutions require a lot of fine-tuning or long lists of rules, e.g spam-filter.\n",
    "2. complex problems for which using a traditional approach yields no good solution, e.g speech-recognition.\n",
    "3. a machine learning system can adapt to new data.\n",
    "4. getting insights about complex problems and large amounts of data."
   ]
  },
  {
   "cell_type": "markdown",
   "metadata": {},
   "source": [
    "## Examples of applications\n",
    "\n",
    "Basic machine learning:\n",
    "\n",
    "1. basic regression\n",
    "2. basic classification\n",
    "3. dimension reduction & visualization\n",
    "4. clustering\n",
    "5. anomaly detection\n",
    "\n",
    "Computer vision:\n",
    "\n",
    "1. image classification, typically use CNNs.\n",
    "2. semantic segmentation, e.g detecting tumors in scan, use CNNs.\n",
    "\n",
    "Natural Language Processing:\n",
    "\n",
    "1. text classification(include text sentiment analysis), typically use RNNs, Transformers.\n",
    "2. text summerization, use RNNS, Transformers.\n",
    "3. chatbot or personal assistant, this involves many NLP components, including NLU and question answering.\n",
    "4. speech recognition\n",
    "\n",
    "Recommender System\n",
    "\n",
    "Reinforcement Learning, e.g AlphaGo."
   ]
  },
  {
   "cell_type": "markdown",
   "metadata": {},
   "source": [
    "## Types of machine learning\n",
    "\n",
    "by whether or not they are trained with human supervision:\n",
    "\n",
    "supervised learning: the training set you feed to the algorithm includes the desired solutions, called labels.\n",
    "\n",
    "unsupervised learning: the training data is unlabeled.\n",
    "\n",
    "semi-supervised learning: can deal with data that's partially labeled.\n",
    "\n",
    "reinforcement learning: the learning system called an agent can observe the evironment, select and perform actions, and get reward in return. it must learn by itself what is the best strategy, called policy, to get the most reward over time.\n",
    "\n",
    "by whether or not they can learn incrementally on the fly (online versus batch learning)\n",
    "\n",
    "by whether they work by simply comparing new data points to known data points (like KNN), or instead by detecting patterns in the training data and build a predictive model. (instance-based versus model-based learning)"
   ]
  },
  {
   "cell_type": "markdown",
   "metadata": {},
   "source": [
    "## Main challenges of machine learning\n",
    "\n",
    "\"bad data\" aspect:\n",
    "\n",
    "insufficient quantity of training data.\n",
    "\n",
    "nonrepresentative training data.\n",
    "\n",
    "poor-quality data.\n",
    "\n",
    "irrelevant features.\n",
    "\n",
    "\"bad algorithm\" aspect:\n",
    "\n",
    "overfitting: model performs well on the training data, but it does not generalize well.\n",
    "\n",
    "underfitting: model is too simple to learn the underlying structure of the data."
   ]
  },
  {
   "cell_type": "markdown",
   "metadata": {},
   "source": [
    "## Testing and Validation\n",
    "\n",
    "the error rate on new cases is called the generalization error.\n",
    "\n",
    "we split data into training set and test set, train the model using training set, test it using test set (use error on test set to estimate generalization error).\n",
    "\n",
    "in hyperparameter tuning and model selection, once we use test set to select models, then test error can not be use to estimate generalization error.\n",
    "\n",
    "**because you adapted the model and hyperparameters to produce the best models for that particular set.**\n",
    "\n",
    "a common solution is called hold-out validation: hold out part of training set to evaluate several candidate models, after picking the best model, we typically retrain that best-model using the whole training set.\n",
    "\n",
    "suppose we want to choose a model from $\\mathcal{M} = \\left\\{M_{1},...,M_{d}\\right\\}$.\n",
    "\n",
    "hold-out validation:\n",
    "\n",
    "1. randomly split dataset $S$ into $S_{train}$ (say 70% of the data) and $S_{val}$ (say 30% of the data).\n",
    "2. train each model $M_{i}$ on $S_{train}$ only, get $h_{i}$.\n",
    "3. use $h_{i}$ to compute error on $S_{val}$, choose the corresponding model that minimize this error.\n",
    "\n",
    "problems: wastes $S_{val}$ data, only evaluate on $S_{val}$ may add bias.\n",
    "\n",
    "### k-fold cross validation\n",
    "\n",
    "one solution of these problems is k-fold cross validation:\n",
    "\n",
    "1. randomly split $S$ into k even disjoint subsets $S_{1},...,S_{k}$.\n",
    "2. for each model $M_{i}$<br>\n",
    "$\\quad$ for $j=1,...,k$, train on all data except $S_{j}$ to get hypothesis $h_{ij}$<br>\n",
    "$\\quad$ test $h_{ij}$ on $S_{j}$ to get $\\hat\\epsilon_{S_{j}}(h_{ij})$<br>\n",
    "estimate generalization error on $M_{i}$ as $\\sum_{j=1}^{k}\\hat\\epsilon_{S_{j}}(h_{ij})$.\n",
    "3. choose the model that minimize the estimated generalization error.\n",
    "\n",
    "$k=10$ is a commonly used choice.\n",
    "\n",
    "disadvantage: computationally expensive.\n",
    "\n",
    "### data mismatch\n",
    "\n",
    "in some cases, it's easy to get a large amount of data for training, but this data won't be perfectly representative of the data in production.\n",
    "\n",
    "in this case, the most important rule is that validation set and test set must be as representative as possible.\n",
    "\n",
    "typically, mismatch data is separated into train set and train-dev set. we first train the model no train set, then evaluate model on train-dev set.\n",
    "\n",
    "when $P(validation) << P(train)$\n",
    "\n",
    "$\\quad$if $P(train\\_dev) << P(train):$\n",
    "\n",
    "$\\quad\\quad$overfitting is a cause\n",
    "\n",
    "$\\quad$elif $P(train\\_dev) \\approx P(train):$\n",
    "\n",
    "$\\quad\\quad$cause is data mismatch"
   ]
  },
  {
   "cell_type": "markdown",
   "metadata": {},
   "source": [
    "## feature selection\n",
    "\n",
    "we can use validation to select features.\n",
    "\n",
    "foward search:\n",
    "\n",
    "1. initialize $\\mathcal{F} = \\emptyset$\n",
    "2. repeatedly:<br>\n",
    "$\\quad$add each un-included feature to $\\mathcal{F}$, then use cross validation to pick the best feature, add this best feature to $\\mathcal{F}$.\n",
    "3. end until $\\mathcal{F}$ include all features.\n",
    "\n",
    "disadvantage: computationally expensive. \n",
    "\n",
    "other heuristic filter feature selection:\n",
    "\n",
    "compute correlation between $X_{i}$ and $Y$, then pick $k$ most correlated features.\n",
    "\n",
    "$$r(X, Y) = \\frac{Cov(X,Y)}{\\sqrt{Var(X)Var(Y)}}$$\n",
    "\n",
    "in practice, we commonly replace correlation with  mutual-information.\n",
    "\n",
    "$$I(X, Y) = \\sum_{x \\in \\mathcal{X}}\\sum_{y \\in \\mathcal{Y}}p(x,y)log\\frac{p(x, y)}{p(x)p(y)} = H(X) - H(X|Y) = H(Y) - H(Y|X)$$\n",
    "\n",
    "if $X, Y$ are independent, $I(X,Y)=0$."
   ]
  },
  {
   "cell_type": "markdown",
   "metadata": {},
   "source": [
    "## no free lunch theorem\n",
    "\n",
    "**demonstrate that if you make absolutely no assumption about the data, then there is no reason to prefer one model over any other.**"
   ]
  },
  {
   "cell_type": "code",
   "execution_count": null,
   "metadata": {},
   "outputs": [],
   "source": []
  }
 ],
 "metadata": {
  "kernelspec": {
   "display_name": "Python 3",
   "language": "python",
   "name": "python3"
  },
  "language_info": {
   "codemirror_mode": {
    "name": "ipython",
    "version": 3
   },
   "file_extension": ".py",
   "mimetype": "text/x-python",
   "name": "python",
   "nbconvert_exporter": "python",
   "pygments_lexer": "ipython3",
   "version": "3.8.3"
  }
 },
 "nbformat": 4,
 "nbformat_minor": 4
}