{
 "cells": [
  {
   "cell_type": "markdown",
   "metadata": {},
   "source": [
    "# Hidden Markov Model"
   ]
  },
  {
   "cell_type": "markdown",
   "metadata": {},
   "source": [
    "## Definition"
   ]
  },
  {
   "cell_type": "markdown",
   "metadata": {},
   "source": [
    "Let $X_{n}$ and $Y_{n}$ be discrete-time stochastic process and $n \\ge 1$. The pair $(X_{n}, Y_{n})$ is a hidden markov model if:\n",
    "\n",
    "* $X_{n}$ is a markov process whose behavior is not directly observable(\"hidden\")\n",
    "\n",
    "* $P(Y_{n} = y_{n}|X_{1}=x_{1},...,X_{n}=x_{n}) = P(Y_{n}=y_{n}|X_{n}=x_{n})$ for every $n \\ge 1$\n",
    "\n",
    "The states of the process $X_{n}$ is called the hidden states, and $P(Y_{n}=y_{n}|X_{n}=x_{n})$ is called emission probability."
   ]
  },
  {
   "cell_type": "markdown",
   "metadata": {},
   "source": [
    "## compute probability given model\n",
    "\n",
    "target: compute $P(O|\\lambda)$ for any $O$ given $\\lambda$."
   ]
  },
  {
   "cell_type": "markdown",
   "metadata": {},
   "source": [
    "### direct approach\n",
    "\n",
    "$$P(O|\\lambda) = \\sum_{I}P(O,I|\\lambda) =\\sum_{I}P(O|I,\\lambda)P(I|\\lambda)$$\n",
    "\n",
    "$I$ take on $N^{T}$ sums, computation complexity is $O(TN^{T})$, this does not work."
   ]
  },
  {
   "cell_type": "markdown",
   "metadata": {},
   "source": [
    "### forward\n",
    "\n",
    "probability of $\\{o_{1},...,o_{T}\\}$ only depends on $\\{o_{1},...,o_{T - 1}\\}$ and $s_{t}$.\n"
   ]
  },
  {
   "cell_type": "code",
   "execution_count": null,
   "metadata": {},
   "outputs": [],
   "source": []
  }
 ],
 "metadata": {
  "kernelspec": {
   "display_name": "Python 3",
   "language": "python",
   "name": "python3"
  },
  "language_info": {
   "codemirror_mode": {
    "name": "ipython",
    "version": 3
   },
   "file_extension": ".py",
   "mimetype": "text/x-python",
   "name": "python",
   "nbconvert_exporter": "python",
   "pygments_lexer": "ipython3",
   "version": "3.8.3"
  }
 },
 "nbformat": 4,
 "nbformat_minor": 4
}
